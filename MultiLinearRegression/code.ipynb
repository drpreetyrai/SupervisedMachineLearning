{
 "cells": [
  {
   "cell_type": "markdown",
   "metadata": {},
   "source": [
    "# Employee Salary Prediction Using Multi-Linear Regression\n",
    "\n",
    "You are working as a data scientist in a company that wants to predict the salaries of employees based on various factors. Your task is to implement two key functions that will help in building a predictive model using multi-linear regression and feature selection.\n",
    "\n",
    "Given a dataset with the following features for each employee:\n",
    "\n",
    "* Years of Experience\n",
    "* Education Level (1 for High School, 2 for Bachelor’s, 3 for Master’s, 4 for PhD)\n",
    "* Age\n",
    "* Industry (1 for Tech, 2 for Finance, 3 for Healthcare)\n",
    "* City (1 for City A, 2 for City B, 3 for City C)\n",
    "* Salary (Target Variable)\n",
    "\n",
    "You are required to create two functions:\n",
    "\n",
    "* Feature Selection and Regression Model:\n",
    "\n",
    "  * Perform feature selection by selecting the top 3 features that are most strongly correlated with the salary.\n",
    "  * Train a multi-linear regression model using the selected features.\n",
    "* Salary Prediction:\n",
    "\n",
    "  * Predict the salary for a new employee using the trained model and the selected features.\n",
    "\n",
    "Functions to Implement:\n",
    "* feature_selection_and_regression(X, Y):\n",
    "  Takes in:\n",
    "  * X: A 2D array (or DataFrame) of shape (n, 5) representing n employees and their features (Years of Experience, Education Level, Age, Industry, City).\n",
    "  * Y: A 1D array (or Series) representing the salary for each employee.\n",
    "  * Objective: Perform feature selection to choose the top 3 most relevant features. Train a multi-linear regression model using these selected features.\n",
    "  * Returns: The trained model, A list of the selected features.\n",
    "* predict_salary(model, new_employee, selected_features):\n",
    "  Takes in:\n",
    "  * model: The trained regression model from the previous function.\n",
    "  * new_employee: A list containing the features for a new employee in the format [Years of Experience, Education Level, Age, Industry, City].\n",
    "  * selected_features: A list of the selected feature names from the previous function.\n",
    "  * Objective: Predict the salary for the new employee using the trained model and selected features.\n",
    "Returns:\n",
    "The predicted salary as a float.\n"
   ]
  },
  {
   "cell_type": "code",
   "execution_count": 1,
   "metadata": {},
   "outputs": [
    {
     "name": "stdout",
     "output_type": "stream",
     "text": [
      "Hello, Begin Your Data Journey\n"
     ]
    }
   ],
   "source": [
    "print(\"Hello, Begin Your Data Journey\")\n"
   ]
  },
  {
   "cell_type": "code",
   "execution_count": 2,
   "metadata": {},
   "outputs": [
    {
     "name": "stdout",
     "output_type": "stream",
     "text": [
      "Defaulting to user installation because normal site-packages is not writeable\n",
      "Requirement already satisfied: sklearn in /Users/preetyrai/Library/Python/3.9/lib/python/site-packages (0.0)\n",
      "Requirement already satisfied: scikit-learn in /Users/preetyrai/Library/Python/3.9/lib/python/site-packages (from sklearn) (1.6.1)\n",
      "Requirement already satisfied: threadpoolctl>=3.1.0 in /Users/preetyrai/Library/Python/3.9/lib/python/site-packages (from scikit-learn->sklearn) (3.6.0)\n",
      "Requirement already satisfied: joblib>=1.2.0 in /Users/preetyrai/Library/Python/3.9/lib/python/site-packages (from scikit-learn->sklearn) (1.4.2)\n",
      "Requirement already satisfied: scipy>=1.6.0 in /Users/preetyrai/Library/Python/3.9/lib/python/site-packages (from scikit-learn->sklearn) (1.13.1)\n",
      "Requirement already satisfied: numpy>=1.19.5 in /Users/preetyrai/Library/Python/3.9/lib/python/site-packages (from scikit-learn->sklearn) (1.26.4)\n",
      "\u001b[33mWARNING: You are using pip version 21.2.4; however, version 25.0.1 is available.\n",
      "You should consider upgrading via the '/Applications/Xcode.app/Contents/Developer/usr/bin/python3 -m pip install --upgrade pip' command.\u001b[0m\n"
     ]
    }
   ],
   "source": [
    "!pip3 install sklearn"
   ]
  },
  {
   "cell_type": "code",
   "execution_count": 3,
   "metadata": {},
   "outputs": [],
   "source": [
    "# import libraries\n",
    "import pandas as pd\n",
    "import numpy as np \n",
    "from sklearn.linear_model import LinearRegression\n"
   ]
  },
  {
   "cell_type": "code",
   "execution_count": 4,
   "metadata": {},
   "outputs": [],
   "source": [
    "# Data Loading\n",
    "import os\n",
    "jupyter_notebook_dataset = os.getenv(\"dataset_url\", \"https://d3dyfaf3iutrxo.cloudfront.net/general/upload/87856638fddd4092bec161f1eebedf17.csv\")\n",
    "data = pd.read_csv(jupyter_notebook_dataset)\n"
   ]
  },
  {
   "cell_type": "code",
   "execution_count": 5,
   "metadata": {},
   "outputs": [
    {
     "data": {
      "text/html": [
       "<div>\n",
       "<style scoped>\n",
       "    .dataframe tbody tr th:only-of-type {\n",
       "        vertical-align: middle;\n",
       "    }\n",
       "\n",
       "    .dataframe tbody tr th {\n",
       "        vertical-align: top;\n",
       "    }\n",
       "\n",
       "    .dataframe thead th {\n",
       "        text-align: right;\n",
       "    }\n",
       "</style>\n",
       "<table border=\"1\" class=\"dataframe\">\n",
       "  <thead>\n",
       "    <tr style=\"text-align: right;\">\n",
       "      <th></th>\n",
       "      <th>Years of Experience</th>\n",
       "      <th>Education Level</th>\n",
       "      <th>Age</th>\n",
       "      <th>Industry</th>\n",
       "      <th>City</th>\n",
       "      <th>Salary</th>\n",
       "    </tr>\n",
       "  </thead>\n",
       "  <tbody>\n",
       "    <tr>\n",
       "      <th>0</th>\n",
       "      <td>7</td>\n",
       "      <td>3</td>\n",
       "      <td>31</td>\n",
       "      <td>3</td>\n",
       "      <td>2</td>\n",
       "      <td>30691</td>\n",
       "    </tr>\n",
       "    <tr>\n",
       "      <th>1</th>\n",
       "      <td>20</td>\n",
       "      <td>3</td>\n",
       "      <td>51</td>\n",
       "      <td>1</td>\n",
       "      <td>3</td>\n",
       "      <td>67471</td>\n",
       "    </tr>\n",
       "    <tr>\n",
       "      <th>2</th>\n",
       "      <td>29</td>\n",
       "      <td>2</td>\n",
       "      <td>46</td>\n",
       "      <td>1</td>\n",
       "      <td>3</td>\n",
       "      <td>80464</td>\n",
       "    </tr>\n",
       "    <tr>\n",
       "      <th>3</th>\n",
       "      <td>15</td>\n",
       "      <td>4</td>\n",
       "      <td>41</td>\n",
       "      <td>1</td>\n",
       "      <td>3</td>\n",
       "      <td>72188</td>\n",
       "    </tr>\n",
       "    <tr>\n",
       "      <th>4</th>\n",
       "      <td>11</td>\n",
       "      <td>4</td>\n",
       "      <td>26</td>\n",
       "      <td>3</td>\n",
       "      <td>2</td>\n",
       "      <td>39994</td>\n",
       "    </tr>\n",
       "  </tbody>\n",
       "</table>\n",
       "</div>"
      ],
      "text/plain": [
       "   Years of Experience  Education Level  Age  Industry  City  Salary\n",
       "0                    7                3   31         3     2   30691\n",
       "1                   20                3   51         1     3   67471\n",
       "2                   29                2   46         1     3   80464\n",
       "3                   15                4   41         1     3   72188\n",
       "4                   11                4   26         3     2   39994"
      ]
     },
     "execution_count": 5,
     "metadata": {},
     "output_type": "execute_result"
    }
   ],
   "source": [
    "# The first 5 rows of the data\n",
    "data.head(5)\n"
   ]
  },
  {
   "cell_type": "code",
   "execution_count": 6,
   "metadata": {},
   "outputs": [
    {
     "data": {
      "text/plain": [
       "Years of Experience    0\n",
       "Education Level        0\n",
       "Age                    0\n",
       "Industry               0\n",
       "City                   0\n",
       "Salary                 0\n",
       "dtype: int64"
      ]
     },
     "execution_count": 6,
     "metadata": {},
     "output_type": "execute_result"
    }
   ],
   "source": [
    "# Explore the dataset with null values and column type\n",
    "data.isnull().sum()\n"
   ]
  },
  {
   "cell_type": "code",
   "execution_count": 7,
   "metadata": {},
   "outputs": [],
   "source": [
    "# function define for feature selection and model fitting\n",
    "from sklearn.preprocessing import StandardScaler\n",
    "\n",
    "def feature_selection_and_regression(X, Y):\n",
    "#     pass\n",
    "    # Convert X and Y to a DataFrame for easier handling\n",
    "    X = pd.DataFrame(X, columns=['Years of Experience', 'Education Level', 'Age', 'Industry', 'City'])  # Replace with actual feature names\n",
    "    y = pd.DataFrame(Y, columns=['Salary'])  # Replace with the name of the target variable\n",
    " \n",
    "    \n",
    "    \n",
    "\n",
    "    # Calculate the absolute correlations between the 'Salary' column and all other numerical columns, \n",
    "    # excluding 'Salary' itself.  \n",
    "#     correlations = X.corrwith(y).abs()\n",
    "    correlations = data.corr()['Salary'].drop('Salary').abs()\n",
    "\n",
    "\n",
    "\n",
    "\n",
    "    # Select the top 3 most correlated features and store it in variable called \"selected_features\"\n",
    "    selected_features = correlations.nlargest(3).index.tolist()\n",
    "\n",
    "    # Prepare the selected features in X\n",
    "    X_selected = X[selected_features]\n",
    "\n",
    "    # Initialize and train the regression model and store it in \"model\"\n",
    "    model = LinearRegression()\n",
    "    model.fit(X_selected, Y)\n",
    "\n",
    "   \n",
    "\n",
    "    # return model, selected_features\n",
    "    return model, selected_features\n",
    "\n",
    "\n"
   ]
  },
  {
   "cell_type": "code",
   "execution_count": 8,
   "metadata": {},
   "outputs": [],
   "source": [
    "def predict_salary(model, new_employee, selected_features):\n",
    "\n",
    "# Convert new_employee into a DataFrame row with the same structure as X\n",
    "\n",
    "    columns = ['Years of Experience', 'Education Level', 'Age', 'Industry', 'City']\n",
    "\n",
    "    new_employee_dict = dict(zip(columns, new_employee))\n",
    "\n",
    "    # Select the features used in the model\n",
    "\n",
    "    selected_values = [new_employee_dict[feature] for feature in selected_features]\n",
    "\n",
    "    # Predict salary using the model\n",
    "\n",
    "    predicted_salary = model.predict([selected_values])\n",
    "\n",
    "    return predicted_salary[0]\n"
   ]
  },
  {
   "cell_type": "code",
   "execution_count": 9,
   "metadata": {},
   "outputs": [],
   "source": [
    "# fitting data \n",
    "\n",
    "X = data[['Years of Experience', 'Education Level', 'Age', 'Industry', 'City']]\n",
    "Y = data['Salary']\n",
    "new_employee = [6, 3, 30, 2, 2]\n"
   ]
  },
  {
   "cell_type": "code",
   "execution_count": 10,
   "metadata": {},
   "outputs": [],
   "source": [
    "# Perform feature selection and regression\n",
    "model, selected_features = feature_selection_and_regression(X, Y)\n"
   ]
  },
  {
   "cell_type": "code",
   "execution_count": 11,
   "metadata": {},
   "outputs": [],
   "source": [
    "my_string = ' '.join(selected_features)\n"
   ]
  },
  {
   "cell_type": "code",
   "execution_count": 12,
   "metadata": {},
   "outputs": [
    {
     "data": {
      "text/plain": [
       "['Years of Experience', 'Education Level', 'Age']"
      ]
     },
     "execution_count": 12,
     "metadata": {},
     "output_type": "execute_result"
    }
   ],
   "source": [
    "selected_features\n"
   ]
  },
  {
   "cell_type": "code",
   "execution_count": 13,
   "metadata": {},
   "outputs": [
    {
     "data": {
      "text/plain": [
       "'\"Years of Experience Education Level Age\"'"
      ]
     },
     "execution_count": 13,
     "metadata": {},
     "output_type": "execute_result"
    }
   ],
   "source": [
    "import json\n",
    "# Convert the string to JSON format\n",
    "my_string_json = json.dumps(my_string)\n",
    "\n",
    "my_string_json\n"
   ]
  },
  {
   "cell_type": "code",
   "execution_count": 14,
   "metadata": {},
   "outputs": [
    {
     "name": "stderr",
     "output_type": "stream",
     "text": [
      "/Users/preetyrai/Library/Python/3.9/lib/python/site-packages/sklearn/utils/validation.py:2739: UserWarning: X does not have valid feature names, but LinearRegression was fitted with feature names\n",
      "  warnings.warn(\n"
     ]
    }
   ],
   "source": [
    "# Predict salary for a new employee and store it in a variable \"predicted_salary\"\n",
    "predicted_salary = predict_salary(model, new_employee, selected_features)\n"
   ]
  },
  {
   "cell_type": "code",
   "execution_count": 15,
   "metadata": {},
   "outputs": [
    {
     "data": {
      "text/plain": [
       "39345.56"
      ]
     },
     "execution_count": 15,
     "metadata": {},
     "output_type": "execute_result"
    }
   ],
   "source": [
    "round(predicted_salary,2)\n"
   ]
  },
  {
   "cell_type": "code",
   "execution_count": null,
   "metadata": {},
   "outputs": [],
   "source": []
  }
 ],
 "metadata": {
  "kernelspec": {
   "display_name": "Python 3",
   "language": "python",
   "name": "python3"
  },
  "language_info": {
   "codemirror_mode": {
    "name": "ipython",
    "version": 3
   },
   "file_extension": ".py",
   "mimetype": "text/x-python",
   "name": "python",
   "nbconvert_exporter": "python",
   "pygments_lexer": "ipython3",
   "version": "3.9.6"
  }
 },
 "nbformat": 4,
 "nbformat_minor": 2
}
